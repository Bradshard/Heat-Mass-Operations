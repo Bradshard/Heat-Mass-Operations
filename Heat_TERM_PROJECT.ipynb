{
  "nbformat": 4,
  "nbformat_minor": 0,
  "metadata": {
    "colab": {
      "provenance": [],
      "collapsed_sections": [
        "wwM6G-IqvWZz"
      ]
    },
    "kernelspec": {
      "name": "python3",
      "display_name": "Python 3"
    },
    "language_info": {
      "name": "python"
    }
  },
  "cells": [
    {
      "cell_type": "markdown",
      "source": [
        "# Preliminaries"
      ],
      "metadata": {
        "id": "wwM6G-IqvWZz"
      }
    },
    {
      "cell_type": "code",
      "source": [
        "import numpy as np\n",
        "import pandas as pd\n",
        "\n",
        "# Physical properties and constraints\n",
        "flow_rate = 20000 / 3600  # kg/hr to kg/s (A2)\n",
        "T_hi, T_ho = 180, 96  # Inlet and outlet temperatures of oil (B3, C1)\n",
        "T_ci, T_co = 25, 35  # Inlet and outlet temperatures of water (D2, D2+10)\n",
        "mean_temp_water = (T_ci + T_co) / 2  # Mean temperature of water (30°C)\n",
        "mean_temp_oil = (T_hi + T_ho) / 2  # Mean temperature of oil (138°C)\n",
        "\n",
        "# Interpolated properties of water at mean temperature\n",
        "T_water_props = [20, 40]  # Temperatures for interpolation (°C)\n",
        "cp_water_props = [4.18, 4.19]  # Specific heat (kJ/kgK)\n",
        "k_water_props = [0.598, 0.631]  # Thermal conductivity (W/mK)\n",
        "rho_water_props = [998, 992]  # Density (kg/m³)\n",
        "mu_water_props = [1.002e-3, 0.653e-3]  # Dynamic viscosity (Pa·s)\n",
        "\n",
        "# Interpolated properties of oil at mean temperature\n",
        "T_oil_props = [110, 140]  # Temperatures for interpolation (°C)\n",
        "cp_oil_props = [2.25, 2.52]  # Specific heat (kJ/kgK)\n",
        "k_oil_props = [0.14, 0.135]  # Thermal conductivity (W/mK)\n",
        "rho_oil_props = [900, 850]  # Density (kg/m³)\n",
        "mu_oil_props = [2.6734e10 * (110 + 273.15)**-3.5287 * 0.001, 2.6734e10 * (140 + 273.15)**-3.5287 * 0.001]  # Dynamic viscosity (Pa·s) cP to Pa.s = 0.001\n",
        "\n",
        "# Interpolated values at mean temperature\n",
        "cp_water = np.interp(mean_temp_water, T_water_props, cp_water_props)\n",
        "cp_water = cp_water*1e3# J/kgK\n",
        "k_water = np.interp(mean_temp_water, T_water_props, k_water_props)\n",
        "rho_water = np.interp(mean_temp_water, T_water_props, rho_water_props)\n",
        "mu_water = np.interp(mean_temp_water, T_water_props, mu_water_props)\n",
        "\n",
        "cp_oil = np.interp(mean_temp_oil, T_oil_props, cp_oil_props)\n",
        "cp_oil = cp_oil*1e3 #J/kgK\n",
        "k_oil = np.interp(mean_temp_oil, T_oil_props, k_oil_props)\n",
        "rho_oil = np.interp(mean_temp_oil, T_oil_props, rho_oil_props)\n",
        "mu_oil = np.interp(mean_temp_oil, T_oil_props, mu_oil_props)\n",
        "\n",
        "# Part 1\n",
        "Q = flow_rate * (T_hi - T_ho)*cp_oil  # Heat transfer rate (W)\n",
        "w = Q/((T_co - T_ci)*cp_water) # kg/s\n",
        "R = (T_hi - T_ho)/(T_co - T_ci)\n",
        "P = (T_co - T_ci)/(T_hi - T_ci)\n",
        "\n",
        "# Correction factor (F) for LMTD\n",
        "F = 0.95  # Typical for 1-shell pass, 2-tube pass configuration\n",
        "LMTD = ((T_ho - T_co)-(T_hi - T_ci))/(np.log((T_ho-T_co)/(T_hi - T_ci)))\n",
        "LMTD_corrected = F * LMTD\n",
        "\n",
        "# Constraints\n",
        "pressure_drop_limit = 15 * 6894.76  # Convert 15 psi to Pa"
      ],
      "metadata": {
        "id": "Gkv_cBOwk7PQ"
      },
      "execution_count": 338,
      "outputs": []
    },
    {
      "cell_type": "code",
      "source": [
        "tube_lengths = np.array([2.44, 3.66, 4.88, 6.1])  # Extended tube lengths in meters (8, 12, 16, 20 ft)"
      ],
      "metadata": {
        "id": "SShk9BVjpuF7"
      },
      "execution_count": 339,
      "outputs": []
    },
    {
      "cell_type": "code",
      "source": [
        "# Extended TEMA-compliant dimensions for triangular pitch\n",
        "tube_diameters_1 = 0.75*2.54/100 # Tube Outside Diameter meters D_o\n",
        "shell_diameters_1 = [8,10,12,13.25,15.25,17.25,19.25,21.25,23.25,25,27,29,31,33,35,37,39]  # Shell ID (inner diameter) D_s\n",
        "shell_diameters_1 = np.array(shell_diameters_1)*2.54/100 # meters\n",
        "tube_pitch_ratios_1 = 1.25\n",
        "tube_pitch_1 = tube_pitch_ratios_1 * tube_diameters_1 # meters\n",
        "number_of_tubes_1 = [36,62,109,127,170,239,301,361,442,532,637,721,847,974,1102,1240,1377] # tube amount\n",
        "tube_inner_diameters_1 = [0.482,0.510,0.532,0.560,0.584,0.606,0.620,0.634,0.652]\n",
        "tube_inner_diameters_1 = np.array(tube_inner_diameters_1) * 2.54/100 # meters_ D_i"
      ],
      "metadata": {
        "id": "eweDEVmlobRm"
      },
      "execution_count": 340,
      "outputs": []
    },
    {
      "cell_type": "code",
      "source": [
        "# Extended TEMA-compliant dimensions for triangular pitch\n",
        "tube_diameters_2 = 1*2.54/100 # Tube Outside Diameter meters\n",
        "shell_diameters_2 = shell_diameters_1 # Shell ID (inner diameter)\n",
        "tube_pitch_ratios_2 = tube_pitch_ratios_1\n",
        "tube_pitch_2 = tube_diameters_2 * tube_pitch_ratios_2 # meters\n",
        "number_of_tubes_2 = [21,32,55,68,91,131,163,199,241,294,349,397,472,538,608,674,766] # tube amount\n",
        "tube_inner_diameters_2 = [0.670,0.704,0.732,0.760,0.782,0.810,0.834,0.856,0.870,0.884,0.902]\n",
        "tube_inner_diameters_2 = np.array(tube_inner_diameters_2) * 2.54/100 # meters"
      ],
      "metadata": {
        "id": "_fFJOvZKrC54"
      },
      "execution_count": 341,
      "outputs": []
    },
    {
      "cell_type": "code",
      "source": [
        "# Extended TEMA-compliant dimensions for triangular pitch\n",
        "tube_diameters_3 = 1.5*2.54/100 # Tube Outside Diameter meter\n",
        "shell_diameters_3 = [12,13.25,15.25,17.25,19.25,21.25,23.25,25,27,29,31,33,35,37,39]\n",
        "shell_diameters_3 = np.array(shell_diameters_3)*2.54/100 # meters\n",
        "tube_pitch_ratios_3 = tube_pitch_ratios_1\n",
        "tube_pitch_3 = tube_diameters_3 * tube_pitch_ratios_3 # meters\n",
        "number_of_tubes_3 = [18,27,36,48,61,76,95,115,136,160,184,215,246,275,307] # tube amount\n",
        "tube_inner_diameters_3 = [0.482,0.510,0.532,0.560,0.584,0.606,0.620,0.634,0.652]\n",
        "tube_inner_diameters_3 = np.array(tube_inner_diameters_3) * 2.54/100 # meters"
      ],
      "metadata": {
        "id": "ixPr1yS5pU-s"
      },
      "execution_count": 342,
      "outputs": []
    },
    {
      "cell_type": "code",
      "source": [
        "# Extended TEMA-compliant dimensions for triangular pitch\n",
        "tube_diameters_4 = tube_diameters_1 # Tube Outside Diameter meters\n",
        "shell_diameters_4 = shell_diameters_1 # Shell ID (inner diameter)\n",
        "tube_pitch_ratios_4 = 1.33\n",
        "tube_pitch_4 = tube_diameters_4 * tube_pitch_ratios_4 # meters\n",
        "number_of_tubes_4 = [37,61,92,109,151,203,262,316,384,470,559,630,745,856,970,1074,1206] # tube amount\n",
        "tube_inner_diameters_4 = tube_inner_diameters_1 # meters\n",
        "tube_inner_diameters_4 = [1.17,1.20,1.23,1.26,1.28,1.31,1.33,1.36,1.37,1.38,1.40]\n",
        "tube_inner_diameters_4 = np.array(tube_inner_diameters_4) * 2.54/100 # meters"
      ],
      "metadata": {
        "id": "Y4P-XW57ppO3"
      },
      "execution_count": 343,
      "outputs": []
    },
    {
      "cell_type": "code",
      "source": [
        "# Extended TEMA-compliant dimensions for triangular pitch\n",
        "tube_diameters_5 = 1.25*2.54/100 # meters\n",
        "shell_diameters_5 = [10,12,13.25,15.25,17.25,19.25,21.25,23.25,25,27,29,31,33,35,37,39]\n",
        "shell_diameters_5 = np.array(shell_diameters_5)*2.54/100 # meters\n",
        "tube_pitch_ratios_5 = 1.25\n",
        "tube_pitch_5 = tube_diameters_5 * tube_pitch_ratios_5 # meters\n",
        "number_of_tubes_5 = [20,32,38,54,69,95,117,140,170,202,235,275,315,357,407,449] # tube amount\n",
        "tube_inner_diameters_5 = [0.920,0.954,0.982,1.01,1.03,1.06,1.08,1.11,1.12,1.13,1.15]\n",
        "tube_inner_diameters_5 = np.array(tube_inner_diameters_5) * 2.54/100 # meters"
      ],
      "metadata": {
        "id": "uESIU0cHufvn"
      },
      "execution_count": 344,
      "outputs": []
    },
    {
      "cell_type": "markdown",
      "source": [
        "# Optimization"
      ],
      "metadata": {
        "id": "u6W9p8FNvUG9"
      }
    },
    {
      "cell_type": "markdown",
      "source": [
        "## Initialization"
      ],
      "metadata": {
        "id": "R0aXIXbQ0arM"
      }
    },
    {
      "cell_type": "markdown",
      "source": [
        "* D_s shell_ID\n",
        "* D_o Out Diameter of Tube\n",
        "* D_i Inside Diameter of Tube\n",
        "* P Tube Pitch"
      ],
      "metadata": {
        "id": "idWtcYThx365"
      }
    },
    {
      "cell_type": "code",
      "source": [
        "tube_diameters = None # D_o\n",
        "shell_diameters = None # D_s\n",
        "tube_pitch = None # meters P\n",
        "tube_inner_diameters = None # D_i\n",
        "number_of_tubes = None # Number of tubes\n",
        "\n",
        "\n",
        "def retrieve_Values(num):\n",
        "  global tube_diameters, shell_diameters, tube_pitch, tube_inner_diameters, number_of_tubes\n",
        "  if num == 1:\n",
        "    tube_diameters = tube_diameters_1\n",
        "    shell_diameters = shell_diameters_1\n",
        "    tube_pitch = tube_pitch_1\n",
        "    tube_inner_diameters = tube_inner_diameters_1\n",
        "    number_of_tubes = number_of_tubes_1\n",
        "  elif num == 2:\n",
        "    tube_diameters = tube_diameters_2\n",
        "    shell_diameters = shell_diameters_2\n",
        "    tube_pitch = tube_pitch_2\n",
        "    tube_inner_diameters = tube_inner_diameters_2\n",
        "    number_of_tubes = number_of_tubes_2\n",
        "  elif num == 3:\n",
        "    tube_diameters = tube_diameters_3\n",
        "    shell_diameters = shell_diameters_3\n",
        "    tube_pitch = tube_pitch_3\n",
        "    tube_inner_diameters = tube_inner_diameters_3\n",
        "    number_of_tubes = number_of_tubes_3\n",
        "  elif num == 4:\n",
        "    tube_diameters = tube_diameters_4\n",
        "    shell_diameters = shell_diameters_4\n",
        "    tube_pitch = tube_pitch_4\n",
        "    tube_inner_diameters = tube_inner_diameters_4\n",
        "    number_of_tubes = number_of_tubes_4\n",
        "  elif num == 5:\n",
        "    tube_diameters = tube_diameters_5\n",
        "    shell_diameters = shell_diameters_5\n",
        "    tube_pitch = tube_pitch_5\n",
        "    tube_inner_diameters = tube_inner_diameters_5\n",
        "    number_of_tubes = number_of_tubes_5\n",
        "  else:\n",
        "    print(\"False number given\")"
      ],
      "metadata": {
        "id": "bEGiYSodyaS-"
      },
      "execution_count": 355,
      "outputs": []
    },
    {
      "cell_type": "code",
      "source": [
        "num = int(input(\"Please give me an integer from [1,2,3,4,5]: \"))\n",
        "retrieve_Values(num)"
      ],
      "metadata": {
        "colab": {
          "base_uri": "https://localhost:8080/"
        },
        "id": "K80SPWet0BJA",
        "outputId": "e9d54c0b-f7aa-4d48-bdea-f60749ac336e"
      },
      "execution_count": 356,
      "outputs": [
        {
          "name": "stdout",
          "output_type": "stream",
          "text": [
            "Please give me an integer from [1,2,3,4,5]: 5\n"
          ]
        }
      ]
    },
    {
      "cell_type": "code",
      "source": [
        "tube_diameters = np.array([tube_diameters])\n",
        "shell_diameters = np.array(shell_diameters)\n",
        "tube_pitch = np.array([tube_pitch])\n",
        "tube_inner_diameters = np.array(tube_inner_diameters)\n",
        "number_of_tubes = np.array(number_of_tubes)"
      ],
      "metadata": {
        "id": "ltp6s6ii0P_e"
      },
      "execution_count": 357,
      "outputs": []
    },
    {
      "cell_type": "code",
      "source": [
        "tube_diameters"
      ],
      "metadata": {
        "colab": {
          "base_uri": "https://localhost:8080/"
        },
        "id": "ac4fYa4o0YyR",
        "outputId": "47d92e68-b04b-4598-cd94-980624c4fa06"
      },
      "execution_count": 139,
      "outputs": [
        {
          "output_type": "execute_result",
          "data": {
            "text/plain": [
              "array([0.01905])"
            ]
          },
          "metadata": {},
          "execution_count": 139
        }
      ]
    },
    {
      "cell_type": "code",
      "source": [
        "shell_diameters"
      ],
      "metadata": {
        "colab": {
          "base_uri": "https://localhost:8080/"
        },
        "id": "OrsFHPff1Lvi",
        "outputId": "856831c3-b864-4aa0-d8b9-972647726cdb"
      },
      "execution_count": 140,
      "outputs": [
        {
          "output_type": "execute_result",
          "data": {
            "text/plain": [
              "array([0.2032 , 0.254  , 0.3048 , 0.33655, 0.38735, 0.43815, 0.48895,\n",
              "       0.53975, 0.59055, 0.635  , 0.6858 , 0.7366 , 0.7874 , 0.8382 ,\n",
              "       0.889  , 0.9398 , 0.9906 ])"
            ]
          },
          "metadata": {},
          "execution_count": 140
        }
      ]
    },
    {
      "cell_type": "code",
      "source": [
        "tube_pitch"
      ],
      "metadata": {
        "colab": {
          "base_uri": "https://localhost:8080/"
        },
        "id": "avXl7IUA1NeO",
        "outputId": "17b56dfa-37eb-460a-b646-d40a84a5cada"
      },
      "execution_count": 141,
      "outputs": [
        {
          "output_type": "execute_result",
          "data": {
            "text/plain": [
              "array([0.0238125])"
            ]
          },
          "metadata": {},
          "execution_count": 141
        }
      ]
    },
    {
      "cell_type": "code",
      "source": [
        "tube_inner_diameters"
      ],
      "metadata": {
        "colab": {
          "base_uri": "https://localhost:8080/"
        },
        "id": "ovzfEKIf1Om7",
        "outputId": "8cd644da-d946-4c0b-950a-fdb1e1bbae96"
      },
      "execution_count": 142,
      "outputs": [
        {
          "output_type": "execute_result",
          "data": {
            "text/plain": [
              "array([0.0122428, 0.012954 , 0.0135128, 0.014224 , 0.0148336, 0.0153924,\n",
              "       0.015748 , 0.0161036, 0.0165608])"
            ]
          },
          "metadata": {},
          "execution_count": 142
        }
      ]
    },
    {
      "cell_type": "code",
      "source": [
        "number_of_tubes"
      ],
      "metadata": {
        "colab": {
          "base_uri": "https://localhost:8080/"
        },
        "id": "zUqQPKZa1QXV",
        "outputId": "038b9cf6-9886-420d-85fa-e1e214241d1b"
      },
      "execution_count": 143,
      "outputs": [
        {
          "output_type": "execute_result",
          "data": {
            "text/plain": [
              "array([  36,   62,  109,  127,  170,  239,  301,  361,  442,  532,  637,\n",
              "        721,  847,  974, 1102, 1240, 1377])"
            ]
          },
          "metadata": {},
          "execution_count": 143
        }
      ]
    },
    {
      "cell_type": "markdown",
      "source": [
        "## Results"
      ],
      "metadata": {
        "id": "Y_jM3aNa0dqM"
      }
    },
    {
      "cell_type": "code",
      "source": [
        "#tube_diameters, shell_diameters, tube_pitch, tube_inner_diameters, number_of_tubes"
      ],
      "metadata": {
        "id": "fPGTBOQA1pSO"
      },
      "execution_count": null,
      "outputs": []
    },
    {
      "cell_type": "code",
      "source": [
        "w"
      ],
      "metadata": {
        "colab": {
          "base_uri": "https://localhost:8080/"
        },
        "id": "PODr076LJIBB",
        "outputId": "ca4d783e-2516-4d51-8895-7c96a3805232"
      },
      "execution_count": 50,
      "outputs": [
        {
          "output_type": "execute_result",
          "data": {
            "text/plain": [
              "27.899641577060923"
            ]
          },
          "metadata": {},
          "execution_count": 50
        }
      ]
    },
    {
      "cell_type": "code",
      "source": [
        "num_of_tube_passes = np.arange(2,11,1)\n",
        "Baffle_spacings = np.arange(2,11,1)\n",
        "W = flow_rate # kg/s\n",
        "w = w # water flow rate again kg/s\n",
        "# PART 1-2-3-4 done they are in paper.\n",
        "#count = 0"
      ],
      "metadata": {
        "id": "cAaTUWuO2Zm3"
      },
      "execution_count": 348,
      "outputs": []
    },
    {
      "cell_type": "code",
      "source": [
        "len(shell_diameters)"
      ],
      "metadata": {
        "colab": {
          "base_uri": "https://localhost:8080/"
        },
        "id": "_Y8qpnAhco01",
        "outputId": "7c841e1b-e0bb-4668-c7a7-c3cd6a9c7664"
      },
      "execution_count": 232,
      "outputs": [
        {
          "output_type": "execute_result",
          "data": {
            "text/plain": [
              "17"
            ]
          },
          "metadata": {},
          "execution_count": 232
        }
      ]
    },
    {
      "cell_type": "code",
      "source": [
        "all_results = pd.DataFrame()"
      ],
      "metadata": {
        "id": "3_F9edw8gyVx"
      },
      "execution_count": 349,
      "outputs": []
    },
    {
      "cell_type": "code",
      "source": [
        "\n",
        "# Results storage\n",
        "results = []\n",
        "\n",
        "# Iterate over configurations\n",
        "for i in range(len(shell_diameters)):\n",
        "    for D_o in tube_diameters:\n",
        "        for L_tube in tube_lengths:\n",
        "            for D_i in tube_inner_diameters:\n",
        "                for P in tube_pitch:\n",
        "                    for n_t in num_of_tube_passes:\n",
        "                        for B_t in Baffle_spacings:\n",
        "                            #count += 1\n",
        "                            D_s = shell_diameters[i]\n",
        "                            #print(D_s)\n",
        "                            N_t = number_of_tubes[i]\n",
        "                            #print(N_t)\n",
        "                            # Part-5 (Area for Cross-Flow) & (For Flow area obtain D_i)\n",
        "                            a_t = (np.pi * D_i**2) / 4 # Flow area per tube m²\n",
        "                            B = B_t*D_s/10\n",
        "                            S_c = (P - D_o)*B*(D_s/P)\n",
        "                            G_c = W/S_c\n",
        "\n",
        "                            # Part-6 (Area for Baffle Window) & (Flow area per pass)\n",
        "                            A_t = N_t*a_t/n_t\n",
        "                            N_b = N_t // 4\n",
        "                            f_b = 0.1955 # Optional idk what optional means\n",
        "                            S_b = (f_b*(np.pi*(D_s)**2)/4) - N_b*(np.pi*(D_o)**2)/4\n",
        "                            G_b = W/S_b\n",
        "\n",
        "                            # Part-7 Mass Velocity & Average Velocity\n",
        "                            if np.isnan(G_c) or np.isnan(G_b) or G_c < 0 or G_b < 0:\n",
        "                                continue  # Skip to the next iteration if G_c or G_b is NaN or less than 0\n",
        "                            G_e = (G_c*G_b)**(1/2)\n",
        "                            if np.isnan(G_e):\n",
        "                                continue\n",
        "                            v = w/(A_t*rho_water)\n",
        "\n",
        "                            # Part-8 Reynolds Shell and Tube\n",
        "                            Re_s = D_o*G_e/mu_oil\n",
        "                            #print(Re_s,D_i,D_o,D_s,N_t,B,S_c,S_b,G_c,G_b,G_e)\n",
        "                            #print(\"AAAAAAA\")\n",
        "                            Re_t = rho_water*v*D_i/mu_water\n",
        "\n",
        "                            # Part-9 Prandtl Number for Shell and Tube\n",
        "                            Pr_s = cp_oil*mu_oil/k_oil\n",
        "                            Pr_t = cp_water*mu_water/k_water\n",
        "\n",
        "                            # Conditions\n",
        "                            if (Re_t >1e4) & (Re_t < 5*1e6) & (Pr_t > 0.5) & (Pr_t < 2*1e3):\n",
        "                                Re_d = Re_t\n",
        "                            elif (Re_t >2.3e3) & (Re_t < 1e4) & (Pr_t > 0.5) & (Pr_t < 2*1e3):\n",
        "                                Re_d = Re_t - 1000\n",
        "                            else:\n",
        "                                continue\n",
        "\n",
        "                            eps_over_D = 0 # for clean pipe\n",
        "                            A = (eps_over_D/2.5497)**(1.1098) + (7.149/Re_t)**(0.8981)\n",
        "\n",
        "                            f = (1/(-4*np.log10((eps_over_D/3.7065) - (5.0452/Re_t)*np.log10(A))))**(1/2)\n",
        "\n",
        "                            ## Part 10\n",
        "                            # Gnielinski Eqn. for tube side\n",
        "                            Nu_D = ((f/2)*(Re_d)*Pr_t)/(1 + 12.7*(f/2)**(1/2) * (Pr_t**(2/3) - 1))# h_i*D_i/k\n",
        "\n",
        "                            h_i = Nu_D*k_water/D_i # Tube side\n",
        "                            h_io = h_i*D_i/D_o # Shell side\n",
        "\n",
        "                            # Donohue Eqn. for shell side\n",
        "                            h_s_over_phi_s = (k_oil/D_o)*0.2*((D_o*G_e/mu_oil)**(0.6)) *((cp_oil*mu_oil/k_oil)**(0.33))\n",
        "\n",
        "                            ## Part 11\n",
        "                            t_w = mean_temp_water + ((h_s_over_phi_s)/(h_io + h_s_over_phi_s))*(mean_temp_oil - mean_temp_water)\n",
        "                            mu_w = 2.6734e10 * (t_w + 273.15)**-3.5287 * 0.001\n",
        "                            ## Part 12 Find mu_water\n",
        "                            phi_s = (mu_oil/mu_w)**(0.14)\n",
        "                            ## Part 13 Corrected Coefficient\n",
        "                            h_o = h_s_over_phi_s*phi_s\n",
        "                            ## Part 14 Clean Overall Coefficient\n",
        "                            U_c = (h_io*h_o)/(h_io + h_o)\n",
        "                            ## Part 15 Design Overall Coefficient\n",
        "                            A = np.pi*D_o*L_tube*N_t\n",
        "                            U_d = Q/(A*LMTD_corrected)\n",
        "\n",
        "                            R_d = (U_c - U_d)/(U_c*U_d)\n",
        "\n",
        "                            ## Pressure Step\n",
        "\n",
        "                            # We assumed Triangular pitch and used table based on it from KERN\n",
        "                            D_h = 4*((P/2) *(0.86*P) - 0.5*0.25*np.pi*((D_o)**2))/(0.5*np.pi*D_o)\n",
        "                            Re = D_h*G_c/mu_oil\n",
        "                            if Re > 400:\n",
        "                                ff = 1.7789*(Re**(-0.195868))\n",
        "                            else:\n",
        "                                continue\n",
        "                            ## N+1 = L_tube/B\n",
        "                            # Shell Side\n",
        "                            delta_P_shell = ((ff)*((G_c)**(2)) * D_s * L_tube)/(2*D_h*phi_s*rho_oil*B)\n",
        "                            if delta_P_shell > pressure_drop_limit:\n",
        "                                continue\n",
        "                            # Tube Side\n",
        "                            # Inside tubes\n",
        "                            delta_P_t = ((4*ff*L_tube*n_t)/(D_i))*rho_water*((v**2)/2)\n",
        "                            # Tube side returns\n",
        "                            delta_P_r = 4*n_t*(rho_water*(v**(2))/2)\n",
        "                            # Total\n",
        "                            delta_P_total = delta_P_t + delta_P_r\n",
        "                            if delta_P_total > pressure_drop_limit:\n",
        "                                continue\n",
        "\n",
        "                            # Store results\n",
        "                            results.append({\n",
        "                                \"Tube Outside Diameter (m)\": D_o,\n",
        "                                \"Shell Diameter (m)\": D_s,\n",
        "                                \"Tube Length (m)\": L_tube,\n",
        "                                \"Number of tubes\": N_t,\n",
        "                                \"Number of Baffle\": N_b,\n",
        "                                \"Tube Inner Diameter (m)\": D_i,\n",
        "                                \"Tube Pitch \": P,\n",
        "                                \"Velocity Tube (m/s)\": v,\n",
        "                                \"Reynolds Tube\": Re_t,\n",
        "                                \"Heat Transfer Coefficient Tube (W/m²K)\": h_io,\n",
        "                                \"Pressure Drop Tube (Pa)\": delta_P_total,\n",
        "                                \"Velocity Shell (m/s)\": G_e,\n",
        "                                \"Reynolds Shell\": Re_s,\n",
        "                                \"Heat Transfer Coefficient Shell (W/m²K)\": h_o,\n",
        "                                \"Clean Overall Heat Transfer Coefficient (W/m²K)\": U_c,\n",
        "                                \"Overall Heat Transfer Coefficient (W/m²K)\": U_d,\n",
        "                                \"Heat Transfer Rate (W)\": Q\n",
        "                                })\n",
        "\n",
        "# Convert results to DataFrame\n",
        "results_df = pd.DataFrame(results)\n",
        "all_results = pd.concat([all_results, results_df])\n",
        "# Find the optimal configuration\n",
        "optimal_config = results_df.sort_values(by=\"Overall Heat Transfer Coefficient (W/m²K)\", ascending=False).iloc[0]\n",
        "\n",
        "# Output results\n",
        "print(\"Optimal Configuration:\")\n",
        "print(optimal_config)\n",
        "\n",
        "# Save results to a CSV file\n",
        "results_df.to_csv(f\"heat_exchanger_optimization_results{num}.csv\", index=False)\n"
      ],
      "metadata": {
        "colab": {
          "base_uri": "https://localhost:8080/"
        },
        "id": "QOqYaEIcXsht",
        "outputId": "188334e2-0d27-446a-99d1-e8eddac38a34"
      },
      "execution_count": 358,
      "outputs": [
        {
          "output_type": "stream",
          "name": "stdout",
          "text": [
            "Optimal Configuration:\n",
            "Tube Outside Diameter (m)                          3.175000e-02\n",
            "Shell Diameter (m)                                 5.397500e-01\n",
            "Tube Length (m)                                    2.440000e+00\n",
            "Number of tubes                                    1.170000e+02\n",
            "Number of Baffle                                   2.900000e+01\n",
            "Tube Inner Diameter (m)                            2.819400e-02\n",
            "Tube Pitch                                         3.968750e-02\n",
            "Velocity Tube (m/s)                                7.677440e-01\n",
            "Reynolds Tube                                      2.602724e+04\n",
            "Heat Transfer Coefficient Tube (W/m²K)             3.512599e+04\n",
            "Pressure Drop Tube (Pa)                            1.032440e+05\n",
            "Velocity Shell (m/s)                               3.487818e+02\n",
            "Reynolds Shell                                     6.917643e+02\n",
            "Heat Transfer Coefficient Shell (W/m²K)            2.429847e+02\n",
            "Clean Overall Heat Transfer Coefficient (W/m²K)    2.413154e+02\n",
            "Overall Heat Transfer Coefficient (W/m²K)          4.281994e+02\n",
            "Heat Transfer Rate (W)                             1.167600e+06\n",
            "Name: 0, dtype: float64\n"
          ]
        }
      ]
    },
    {
      "cell_type": "code",
      "source": [
        "# Find the optimal configuration\n",
        "optimal_config_all = all_results.sort_values(by=\"Overall Heat Transfer Coefficient (W/m²K)\", ascending=False).iloc[0]\n",
        "\n",
        "# Output results\n",
        "print(\"Optimal Configuration:\")\n",
        "print(optimal_config_all)"
      ],
      "metadata": {
        "colab": {
          "base_uri": "https://localhost:8080/"
        },
        "id": "xEAioki7hF5-",
        "outputId": "64d5b30b-032c-4ae8-839a-f4f44a9cf7e1"
      },
      "execution_count": 359,
      "outputs": [
        {
          "output_type": "stream",
          "name": "stdout",
          "text": [
            "Optimal Configuration:\n",
            "Tube Outside Diameter (m)                          1.905000e-02\n",
            "Shell Diameter (m)                                 3.048000e-01\n",
            "Tube Length (m)                                    2.440000e+00\n",
            "Number of tubes                                    9.200000e+01\n",
            "Number of Baffle                                   2.300000e+01\n",
            "Tube Inner Diameter (m)                            3.505200e-02\n",
            "Tube Pitch                                         2.533650e-02\n",
            "Velocity Tube (m/s)                                6.316874e-01\n",
            "Reynolds Tube                                      2.662380e+04\n",
            "Heat Transfer Coefficient Tube (W/m²K)             5.984132e+04\n",
            "Pressure Drop Tube (Pa)                            6.107788e+04\n",
            "Velocity Shell (m/s)                               5.380198e+02\n",
            "Reynolds Shell                                     6.402563e+02\n",
            "Heat Transfer Coefficient Shell (W/m²K)            3.865675e+02\n",
            "Clean Overall Heat Transfer Coefficient (W/m²K)    3.840864e+02\n",
            "Overall Heat Transfer Coefficient (W/m²K)          9.075965e+02\n",
            "Heat Transfer Rate (W)                             1.167600e+06\n",
            "Name: 29, dtype: float64\n"
          ]
        }
      ]
    }
  ]
}